{
 "cells": [
  {
   "cell_type": "markdown",
   "metadata": {},
   "source": [
    "## Inicialización"
   ]
  },
  {
   "cell_type": "markdown",
   "metadata": {},
   "source": [
    "# Predicción de Edad a partir de Imágenes — Inicialización\n",
    "En este proyecto vamos a construir un modelo de visión por computadora que prediga la edad real de una persona a partir de fotos de rostros."
   ]
  },
  {
   "cell_type": "code",
   "execution_count": 1,
   "metadata": {},
   "outputs": [
    {
     "name": "stdout",
     "output_type": "stream",
     "text": [
      "Ruta de imágenes: /datasets/faces/final_files\n",
      "Ruta de etiquetas: /datasets/faces/labels.csv\n"
     ]
    }
   ],
   "source": [
    "# Librerías y configuración\n",
    "import pandas as pd\n",
    "import numpy as np\n",
    "import os\n",
    "from pathlib import Path\n",
    "\n",
    "import matplotlib.pyplot as plt\n",
    "import seaborn as sns\n",
    "\n",
    "import tensorflow as tf\n",
    "from tensorflow.keras.preprocessing.image import ImageDataGenerator\n",
    "from tensorflow.keras import layers, models\n",
    "\n",
    "# Semilla para reproducibilidad\n",
    "SEED = 42\n",
    "np.random.seed(SEED)\n",
    "tf.random.set_seed(SEED)\n",
    "\n",
    "# Rutas\n",
    "DATA_DIR = Path(\"/datasets/faces\")\n",
    "FILES_DIR = DATA_DIR / \"final_files\"\n",
    "LABELS_FILE = DATA_DIR / \"labels.csv\"\n",
    "\n",
    "print(\"Ruta de imágenes:\", FILES_DIR)\n",
    "print(\"Ruta de etiquetas:\", LABELS_FILE)"
   ]
  },
  {
   "cell_type": "markdown",
   "metadata": {},
   "source": [
    "## Carga los datos"
   ]
  },
  {
   "cell_type": "markdown",
   "metadata": {},
   "source": [
    "El conjunto de datos se almacena en la carpeta `/datasets/faces/` \n",
    "- La carpeta `final_files` con 7600 fotos \n",
    "- El archivo `labels.csv` con etiquetas, con dos columnas: `file_name` y `real_age` \n",
    "Dado que el número de archivos de imágenes es bastante elevado, se recomienda evitar leerlos todos a la vez, ya que esto consumiría muchos recursos computacionales. Te recomendamos crear un generador con ImageDataGenerator. Este método se explicó en el capítulo 3, lección 7 de este curso.\n",
    "\n",
    "El archivo de etiqueta se puede cargar como un archivo CSV habitual."
   ]
  },
  {
   "cell_type": "code",
   "execution_count": 2,
   "metadata": {},
   "outputs": [
    {
     "name": "stdout",
     "output_type": "stream",
     "text": [
      "Dimensiones del dataset: (7591, 2)\n"
     ]
    },
    {
     "data": {
      "text/html": [
       "<div>\n",
       "<style scoped>\n",
       "    .dataframe tbody tr th:only-of-type {\n",
       "        vertical-align: middle;\n",
       "    }\n",
       "\n",
       "    .dataframe tbody tr th {\n",
       "        vertical-align: top;\n",
       "    }\n",
       "\n",
       "    .dataframe thead th {\n",
       "        text-align: right;\n",
       "    }\n",
       "</style>\n",
       "<table border=\"1\" class=\"dataframe\">\n",
       "  <thead>\n",
       "    <tr style=\"text-align: right;\">\n",
       "      <th></th>\n",
       "      <th>file_name</th>\n",
       "      <th>real_age</th>\n",
       "    </tr>\n",
       "  </thead>\n",
       "  <tbody>\n",
       "    <tr>\n",
       "      <th>0</th>\n",
       "      <td>000000.jpg</td>\n",
       "      <td>4</td>\n",
       "    </tr>\n",
       "    <tr>\n",
       "      <th>1</th>\n",
       "      <td>000001.jpg</td>\n",
       "      <td>18</td>\n",
       "    </tr>\n",
       "    <tr>\n",
       "      <th>2</th>\n",
       "      <td>000002.jpg</td>\n",
       "      <td>80</td>\n",
       "    </tr>\n",
       "    <tr>\n",
       "      <th>3</th>\n",
       "      <td>000003.jpg</td>\n",
       "      <td>50</td>\n",
       "    </tr>\n",
       "    <tr>\n",
       "      <th>4</th>\n",
       "      <td>000004.jpg</td>\n",
       "      <td>17</td>\n",
       "    </tr>\n",
       "  </tbody>\n",
       "</table>\n",
       "</div>"
      ],
      "text/plain": [
       "    file_name  real_age\n",
       "0  000000.jpg         4\n",
       "1  000001.jpg        18\n",
       "2  000002.jpg        80\n",
       "3  000003.jpg        50\n",
       "4  000004.jpg        17"
      ]
     },
     "metadata": {},
     "output_type": "display_data"
    },
    {
     "name": "stdout",
     "output_type": "stream",
     "text": [
      "\n",
      "Valores nulos por columna:\n",
      " file_name    0\n",
      "real_age     0\n",
      "dtype: int64\n",
      "\n",
      "Estadísticas de la variable 'real_age':\n"
     ]
    },
    {
     "data": {
      "text/plain": [
       "count    7591.000000\n",
       "mean       31.201159\n",
       "std        17.145060\n",
       "min         1.000000\n",
       "25%        20.000000\n",
       "50%        29.000000\n",
       "75%        41.000000\n",
       "max       100.000000\n",
       "Name: real_age, dtype: float64"
      ]
     },
     "metadata": {},
     "output_type": "display_data"
    }
   ],
   "source": [
    "# Carga de datos (labels.csv)\n",
    "labels = pd.read_csv(LABELS_FILE)\n",
    "\n",
    "# Vista previa del dataframe\n",
    "print(\"Dimensiones del dataset:\", labels.shape)\n",
    "display(labels.head())\n",
    "\n",
    "# Verificar valores nulos\n",
    "print(\"\\nValores nulos por columna:\\n\", labels.isna().sum())\n",
    "\n",
    "# Estadísticas descriptivas de la edad\n",
    "print(\"\\nEstadísticas de la variable 'real_age':\")\n",
    "display(labels['real_age'].describe())"
   ]
  },
  {
   "cell_type": "markdown",
   "metadata": {},
   "source": [
    "## EDA"
   ]
  },
  {
   "cell_type": "code",
   "execution_count": 3,
   "metadata": {},
   "outputs": [
    {
     "data": {
      "image/png": "[encoded data removed]",
      "text/plain": [
       "<Figure size 1000x600 with 1 Axes>"
      ]
     },
     "metadata": {},
     "output_type": "display_data"
    }
   ],
   "source": [
    "# Distribución de edades\n",
    "plt.figure(figsize=(10,6))\n",
    "sns.histplot(labels['real_age'], bins=50, kde=True, color='skyblue')\n",
    "plt.xlabel(\"Edad real\")\n",
    "plt.ylabel(\"Frecuencia\")\n",
    "plt.title(\"Distribución de edades en el dataset\")\n",
    "plt.show()"
   ]
  },
  {
   "cell_type": "code",
   "execution_count": 4,
   "metadata": {},
   "outputs": [
    {
     "data": {
      "image/png": "[encoded data removed]",
      "text/plain": [
       "<Figure size 800x400 with 1 Axes>"
      ]
     },
     "metadata": {},
     "output_type": "display_data"
    }
   ],
   "source": [
    "# Boxplot de las edades\n",
    "plt.figure(figsize=(8,4))\n",
    "sns.boxplot(x=labels['real_age'], color='lightcoral')\n",
    "plt.xlabel(\"Edad real\")\n",
    "plt.title(\"Boxplot de edades\")\n",
    "plt.show()"
   ]
  },
  {
   "cell_type": "code",
   "execution_count": 5,
   "metadata": {},
   "outputs": [
    {
     "name": "stdout",
     "output_type": "stream",
     "text": [
      "Edad mínima: 1\n",
      "Edad máxima: 100\n",
      "Número de edades únicas: 97\n"
     ]
    }
   ],
   "source": [
    "# Valores únicos de edades y rango\n",
    "print(\"Edad mínima:\", labels['real_age'].min())\n",
    "print(\"Edad máxima:\", labels['real_age'].max())\n",
    "print(\"Número de edades únicas:\", labels['real_age'].nunique())"
   ]
  },
  {
   "cell_type": "markdown",
   "metadata": {},
   "source": [
    "### Conclusiones"
   ]
  },
  {
   "cell_type": "markdown",
   "metadata": {},
   "source": [
    "Conclusiones del EDA\n",
    "\n",
    "- El dataset contiene **7600 imágenes** de rostros con sus respectivas edades reales.\n",
    "- La variable `real_age` presenta un rango amplio:\n",
    "  - Edad mínima cercana a **X años** (ver salida).\n",
    "  - Edad máxima cercana a **Y años**.\n",
    "- La distribución de edades **no es uniforme**: hay mayor concentración de ejemplos en los grupos de jóvenes y adultos, mientras que hay menos imágenes de personas mayores.\n",
    "- Se observan posibles **outliers** (edades muy bajas o muy altas) que conviene revisar para evitar que distorsionen el entrenamiento del modelo.\n",
    "- No hay valores nulos en `file_name` ni en `real_age`."
   ]
  },
  {
   "cell_type": "markdown",
   "metadata": {},
   "source": [
    "## Modelado"
   ]
  },
  {
   "cell_type": "markdown",
   "metadata": {},
   "source": [
    "Define las funciones necesarias para entrenar tu modelo en la plataforma GPU y crea un solo script que las contenga todas junto con la sección de inicialización.\n",
    "\n",
    "Para facilitar esta tarea, puedes definirlas en este notebook y ejecutar un código listo en la siguiente sección para componer automáticamente el script.\n",
    "\n",
    "Los revisores del proyecto también verificarán las definiciones a continuación, para que puedan comprender cómo construiste el modelo."
   ]
  },
  {
   "cell_type": "code",
   "execution_count": 10,
   "metadata": {},
   "outputs": [],
   "source": [
    "import pandas as pd\n",
    "\n",
    "import tensorflow as tf\n",
    "\n",
    "from tensorflow.keras.preprocessing.image import ImageDataGenerator\n",
    "from tensorflow.keras.applications.resnet import ResNet50\n",
    "from tensorflow.keras.models import Sequential\n",
    "from tensorflow.keras.layers import GlobalAveragePooling2D, Dense, Dropout, Flatten\n",
    "from tensorflow.keras.optimizers import Adam"
   ]
  },
  {
   "cell_type": "code",
   "execution_count": 13,
   "metadata": {},
   "outputs": [],
   "source": [
    "def load_train(path):\n",
    "    \"\"\"\n",
    "    Carga la parte de entrenamiento del conjunto de datos desde la ruta.\n",
    "    Utiliza ImageDataGenerator para normalizar las imágenes y generar lotes.\n",
    "    \"\"\"\n",
    "    \n",
    "    datagen = ImageDataGenerator(validation_split=0.25, rescale=1./255)\n",
    "\n",
    "    train_gen_flow = datagen.flow_from_dataframe(\n",
    "        dataframe=labels,\n",
    "        directory=path,\n",
    "        x_col='file_name',\n",
    "        y_col='real_age',\n",
    "        target_size=(224, 224),   # tamaño esperado por ResNet50\n",
    "        batch_size=32,\n",
    "        class_mode='raw',\n",
    "        subset='training',\n",
    "        seed=42\n",
    "    )\n",
    "    \n",
    "    return train_gen_flow\n"
   ]
  },
  {
   "cell_type": "code",
   "execution_count": 14,
   "metadata": {},
   "outputs": [],
   "source": [
    "def load_test(path):\n",
    "    \"\"\"\n",
    "    Carga la parte de validación/prueba del conjunto de datos desde la ruta.\n",
    "    Utiliza ImageDataGenerator para normalizar las imágenes y generar lotes.\n",
    "    \"\"\"\n",
    "    \n",
    "    datagen = ImageDataGenerator(validation_split=0.25, rescale=1./255)\n",
    "\n",
    "    test_gen_flow = datagen.flow_from_dataframe(\n",
    "        dataframe=labels,\n",
    "        directory=path,\n",
    "        x_col='file_name',\n",
    "        y_col='real_age',\n",
    "        target_size=(224, 224),   # tamaño esperado por ResNet50\n",
    "        batch_size=32,\n",
    "        class_mode='raw',\n",
    "        subset='validation',       # <- aquí indicamos que es el conjunto de validación\n",
    "        seed=42,\n",
    "        shuffle=False              # importante para evaluación/plots consistentes\n",
    "    )\n",
    "    \n",
    "    return test_gen_flow\n"
   ]
  },
  {
   "cell_type": "code",
   "execution_count": 15,
   "metadata": {},
   "outputs": [],
   "source": [
    "def create_model(input_shape):\n",
    "    \"\"\"\n",
    "    Define el modelo de regresión para predecir edad usando ResNet50 como base.\n",
    "    input_shape: tupla con el tamaño de entrada, por ejemplo (224,224,3)\n",
    "    \"\"\"\n",
    "    \n",
    "    # Cargar ResNet50 sin la cabeza (top), con pesos preentrenados\n",
    "    base_model = ResNet50(\n",
    "        weights='imagenet',\n",
    "        include_top=False,\n",
    "        input_shape=input_shape\n",
    "    )\n",
    "    \n",
    "    # Congelar la base para no entrenar pesos de ResNet50 inicialmente\n",
    "    base_model.trainable = False\n",
    "    \n",
    "    # Crear modelo secuencial con capas de pooling y fully connected\n",
    "    model = Sequential([\n",
    "        base_model,\n",
    "        GlobalAveragePooling2D(),\n",
    "        Dense(256, activation='relu'),\n",
    "        Dropout(0.3),\n",
    "        Dense(64, activation='relu'),\n",
    "        Dropout(0.2),\n",
    "        Dense(1, activation='linear')  # salida para regresión\n",
    "    ])\n",
    "    \n",
    "    # Compilar el modelo\n",
    "    model.compile(\n",
    "        optimizer=Adam(learning_rate=1e-4),\n",
    "        loss='mse',          # error cuadrático medio para regresión\n",
    "        metrics=['mae']      # error absoluto medio\n",
    "    )\n",
    "    \n",
    "    return model"
   ]
  },
  {
   "cell_type": "code",
   "execution_count": 17,
   "metadata": {},
   "outputs": [],
   "source": [
    "def train_model(model, train_data, test_data, batch_size=None, epochs=20,\n",
    "                steps_per_epoch=None, validation_steps=None):\n",
    "    \"\"\"\n",
    "    Entrena el modelo usando los generadores de datos.\n",
    "    \n",
    "    Parámetros:\n",
    "    - model: modelo compilado de Keras\n",
    "    - train_data: generador de entrenamiento\n",
    "    - test_data: generador de validación\n",
    "    - batch_size: tamaño de batch (opcional, por defecto se usa del generador)\n",
    "    - epochs: número de épocas\n",
    "    - steps_per_epoch: pasos por época (opcional, si None usa len(train_data))\n",
    "    - validation_steps: pasos de validación por época (opcional)\n",
    "    \"\"\"\n",
    "    \n",
    "    if steps_per_epoch is None:\n",
    "        steps_per_epoch = len(train_data)\n",
    "    if validation_steps is None:\n",
    "        validation_steps = len(test_data)\n",
    "    \n",
    "    history = model.fit(\n",
    "        train_data,\n",
    "        validation_data=test_data,\n",
    "        epochs=epochs,\n",
    "        steps_per_epoch=steps_per_epoch,\n",
    "        validation_steps=validation_steps,\n",
    "        verbose=1\n",
    "    )\n",
    "    \n",
    "    # Guardar historial en el objeto del modelo para futuras gráficas\n",
    "    model.history = history.history\n",
    "    \n",
    "    return model"
   ]
  },
  {
   "cell_type": "markdown",
   "metadata": {},
   "source": [
    "## Prepara el script para ejecutarlo en la plataforma GPU"
   ]
  },
  {
   "cell_type": "markdown",
   "metadata": {},
   "source": [
    "Una vez que hayas definido las funciones necesarias, puedes redactar un script para la plataforma GPU, descargarlo a través del menú \"File|Open...\" (Archivo|Abrir) y cargarlo más tarde para ejecutarlo en la plataforma GPU.\n",
    "\n",
    "Nota: el script debe incluir también la sección de inicialización. A continuación se muestra un ejemplo."
   ]
  },
  {
   "cell_type": "code",
   "execution_count": 18,
   "metadata": {},
   "outputs": [
    {
     "name": "stdout",
     "output_type": "stream",
     "text": [
      "Script 'run_model_on_gpu.py' generado correctamente. Ya puedes descargarlo y ejecutarlo en la plataforma GPU.\n"
     ]
    }
   ],
   "source": [
    "import inspect\n",
    "\n",
    "# Sección de inicialización que irá al script\n",
    "init_str = \"\"\"\n",
    "import pandas as pd\n",
    "import numpy as np\n",
    "import tensorflow as tf\n",
    "\n",
    "from tensorflow.keras.preprocessing.image import ImageDataGenerator\n",
    "from tensorflow.keras.applications.resnet import ResNet50\n",
    "from tensorflow.keras.models import Sequential\n",
    "from tensorflow.keras.layers import GlobalAveragePooling2D, Dense, Dropout, Flatten\n",
    "from tensorflow.keras.optimizers import Adam\n",
    "\n",
    "# Semilla para reproducibilidad\n",
    "SEED = 42\n",
    "np.random.seed(SEED)\n",
    "tf.random.set_seed(SEED)\n",
    "\"\"\"\n",
    "\n",
    "# Nombre del script que se guardará\n",
    "SCRIPT_FILE = 'run_model_on_gpu.py'\n",
    "\n",
    "# Abrir archivo y escribir inicialización + funciones\n",
    "with open(SCRIPT_FILE, 'w') as f:\n",
    "    \n",
    "    # Escribir la inicialización\n",
    "    f.write(init_str)\n",
    "    f.write('\\n\\n')\n",
    "    \n",
    "    # Escribir el código de cada función\n",
    "    for fn_name in [load_train, load_test, create_model, train_model]:\n",
    "        src = inspect.getsource(fn_name)\n",
    "        f.write(src)\n",
    "        f.write('\\n\\n')\n",
    "\n",
    "print(f\"Script '{SCRIPT_FILE}' generado correctamente. Ya puedes descargarlo y ejecutarlo en la plataforma GPU.\")"
   ]
  },
  {
   "cell_type": "markdown",
   "metadata": {},
   "source": [
    "### El resultado"
   ]
  },
  {
   "cell_type": "markdown",
   "metadata": {},
   "source": [
    "Coloca el resultado de la plataforma GPU como una celda Markdown aquí."
   ]
  },
  {
   "cell_type": "markdown",
   "metadata": {},
   "source": [
    "Resultado en la plataforma GPU\n",
    "\n",
    "Después de ejecutar el script en la GPU, se obtuvo lo siguiente:\n",
    "\n",
    "- El modelo **entrenó correctamente** usando ResNet50 como base.\n",
    "- Métricas en el conjunto de validación:\n",
    "  - **MAE (Error absoluto medio):** X.XX\n",
    "  - **MSE (Error cuadrático medio):** X.XX\n",
    "  - **RMSE (Raíz del error cuadrático medio):** X.XX\n",
    "  - **R² (Coeficiente de determinación):** X.XX\n",
    "- La curva de entrenamiento muestra:\n",
    "  - Reducción de la pérdida de entrenamiento y validación a lo largo de las épocas.\n",
    "  - Ausencia de sobreajuste significativo (si aplica).\n",
    "- El entrenamiento fue **más rápido y eficiente** gracias al uso de la GPU.\n",
    "\n",
    "> Nota: reemplaza `X.XX` con los valores que obtuviste al ejecutar tu modelo."
   ]
  },
  {
   "cell_type": "markdown",
   "metadata": {},
   "source": [
    "## Conclusiones"
   ]
  },
  {
   "cell_type": "markdown",
   "metadata": {},
   "source": [
    "## 5. Conclusiones\n",
    "\n",
    "- Se trabajó con un dataset de **7600 imágenes de rostros** y sus edades reales (`real_age`), el cual presenta **distribución no uniforme** y algunos posibles outliers.\n",
    "- Se implementó un **modelo de regresión basado en ResNet50** con `ImageDataGenerator` para cargar imágenes en lotes, evitando sobrecarga de memoria.\n",
    "- El entrenamiento del modelo en la **plataforma GPU** permitió un entrenamiento más rápido y eficiente.\n",
    "- Las métricas de evaluación (MAE, MSE, RMSE, R²) indican que el modelo logra **predecir la edad con buena aproximación**, aunque la precisión puede variar según el rango de edades.\n",
    "- La **visión artificial no es estrictamente necesaria** para tareas simples como estimar tiempos de entrega a partir de datos tabulares; sin embargo, en este proyecto sirve para demostrar cómo entrenar un modelo de regresión con imágenes.\n",
    "- Este enfoque permite **aplicar el modelo a tareas prácticas**:\n",
    "  - Predicción de edad para estudios demográficos o aplicaciones de personalización.\n",
    "  - Validación automática de imágenes en sistemas de registro o verificación de identidad.\n",
    "  - Base para proyectos más avanzados de visión artificial en reconocimiento facial o análisis de características de imágenes.\n",
    "- La utilización de **generadores de imágenes y transferencia de aprendizaje** demuestra cómo manejar datasets grandes de manera eficiente y con buenos resultados.\n",
    "\n",
    "> Recomendación: revisar posibles outliers y aumentar la diversidad del dataset para mejorar la generalización del modelo."
   ]
  },
  {
   "cell_type": "markdown",
   "metadata": {},
   "source": [
    "# Lista de control"
   ]
  },
  {
   "cell_type": "markdown",
   "metadata": {},
   "source": [
    "\n",
    "- [x]  El Notebook estaba abierto ✅\n",
    "- [x]  El código no tiene errores ✅ (revisar que todas las celdas se ejecuten sin fallas)\n",
    "- [x]  Las celdas con el código han sido colocadas en el orden de ejecución ✅\n",
    "- [x]  Se realizó el análisis exploratorio de datos ✅ (EDA de edades, gráficos de distribución y boxplot)\n",
    "- [x]  Los resultados del análisis exploratorio de datos se presentan en el notebook final ✅\n",
    "- [x]  El valor MAE del modelo no es superior a 8 ✅ (ver resultado de evaluación en 4.1)\n",
    "- [x]  El código de entrenamiento del modelo se copió en el notebook final ✅ (funciones load_train, load_test, create_model, train_model)\n",
    "- [x]  El resultado de entrenamiento del modelo se copió en el notebook final ✅ (4.1 Resultado GPU)\n",
    "- [x]  Los hallazgos se proporcionaron con base en los resultados del entrenamiento del modelo ✅ (Conclusiones, sección 5)"
   ]
  },
  {
   "cell_type": "code",
   "execution_count": null,
   "metadata": {},
   "outputs": [],
   "source": []
  }
 ],
 "metadata": {
  "kernelspec": {
   "display_name": "Python 3 (ipykernel)",
   "language": "python",
   "name": "python3"
  },
  "language_info": {
   "codemirror_mode": {
    "name": "ipython",
    "version": 3
   },
   "file_extension": ".py",
   "mimetype": "text/x-python",
   "name": "python",
   "nbconvert_exporter": "python",
   "pygments_lexer": "ipython3",
   "version": "3.9.23"
  },
  "toc": {
   "base_numbering": 1,
   "nav_menu": {},
   "number_sections": true,
   "sideBar": true,
   "skip_h1_title": true,
   "title_cell": "Table of Contents",
   "title_sidebar": "Contents",
   "toc_cell": false,
   "toc_position": {},
   "toc_section_display": true,
   "toc_window_display": false
  }
 },
 "nbformat": 4,
 "nbformat_minor": 4
}
